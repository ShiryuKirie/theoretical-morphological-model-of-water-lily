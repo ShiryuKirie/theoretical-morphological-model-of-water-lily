{
 "cells": [
  {
   "cell_type": "code",
   "execution_count": null,
   "metadata": {},
   "outputs": [],
   "source": [
    "#\n",
    "#　dr1 の形態空間に重ねるためのデータ生成\n",
    "#　dr1 の形態空間は花被片20枚で統一しており、0番目の花被片の長さを１としたときの\n",
    "#　相対的な減少分として減少率を扱っている。そのため、減少率が 5%  までの値しか\n",
    "#　とらないという制約がある（20枚＊5% = 1）。\n",
    "#　そこで線形モデルの切片を1とし, 最後の番号のときの長さ（傾き＊番号で推定）　\n",
    "#　を引いたのち20で割ることで擬似的に制約に沿うように変化率を揃える?\n",
    "#\n",
    "\n",
    "import pandas as pd\n",
    "import numpy as np\n",
    "import os\n",
    "import glob\n",
    "from sklearn.linear_model import LinearRegression\n",
    "\n",
    "data2 = pd.read_csv('linear-model_tepal_extend_20180710.csv', header = 'infer')\n",
    "\n",
    "dr1_maj20 = ((data2[\"num\"] - 1) * data2[\"dr1_Maj\"] + 1 ) / 20\n",
    "dr1_min20 = ((data2[\"num\"] - 1) * data2[\"dr1_Min\"] + 1 ) / 20\n",
    "\n",
    "val3 = pd.DataFrame({'dr1_Maj20': dr1_maj20, 'dr1_Min20': dr1_min20})\n",
    "\n",
    "val_plus = val_ex.join(val3)\n",
    "print(val3)\n",
    "\n",
    "val_plus.to_csv(\"linear-model_tepal_plus_20180710.csv\")"
   ]
  },
  {
   "cell_type": "code",
   "execution_count": null,
   "metadata": {},
   "outputs": [],
   "source": []
  }
 ],
 "metadata": {
  "kernelspec": {
   "display_name": "Python 3",
   "language": "python",
   "name": "python3"
  },
  "language_info": {
   "codemirror_mode": {
    "name": "ipython",
    "version": 3
   },
   "file_extension": ".py",
   "mimetype": "text/x-python",
   "name": "python",
   "nbconvert_exporter": "python",
   "pygments_lexer": "ipython3",
   "version": "3.6.1"
  }
 },
 "nbformat": 4,
 "nbformat_minor": 2
}
