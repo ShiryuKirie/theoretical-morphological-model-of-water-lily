{
 "cells": [
  {
   "cell_type": "code",
   "execution_count": 1,
   "metadata": {},
   "outputs": [
    {
     "name": "stdout",
     "output_type": "stream",
     "text": [
      "nympha-ell_dx1-dy1_20180518_00-00_3d.png\n",
      "nympha-ell_dx1-dy1_20180518_00-10_3d.png\n",
      "nympha-ell_dx1-dy1_20180518_00-20_3d.png\n",
      "nympha-ell_dx1-dy1_20180518_00-30_3d.png\n",
      "nympha-ell_dx1-dy1_20180518_00-40_3d.png\n",
      "nympha-ell_dx1-dy1_20180518_00-50_3d.png\n",
      "nympha-ell_dx1-dy1_20180518_10-00_3d.png\n",
      "nympha-ell_dx1-dy1_20180518_10-10_3d.png\n",
      "nympha-ell_dx1-dy1_20180518_10-20_3d.png\n",
      "nympha-ell_dx1-dy1_20180518_10-30_3d.png\n",
      "nympha-ell_dx1-dy1_20180518_10-40_3d.png\n",
      "nympha-ell_dx1-dy1_20180518_10-50_3d.png\n",
      "nympha-ell_dx1-dy1_20180518_20-00_3d.png\n",
      "nympha-ell_dx1-dy1_20180518_20-10_3d.png\n",
      "nympha-ell_dx1-dy1_20180518_20-20_3d.png\n",
      "nympha-ell_dx1-dy1_20180518_20-30_3d.png\n",
      "nympha-ell_dx1-dy1_20180518_20-40_3d.png\n",
      "nympha-ell_dx1-dy1_20180518_20-50_3d.png\n",
      "nympha-ell_dx1-dy1_20180518_30-00_3d.png\n",
      "nympha-ell_dx1-dy1_20180518_30-10_3d.png\n"
     ]
    },
    {
     "name": "stderr",
     "output_type": "stream",
     "text": [
      "C:\\Users\\Shiryu\\Anaconda3\\lib\\site-packages\\matplotlib\\pyplot.py:524: RuntimeWarning: More than 20 figures have been opened. Figures created through the pyplot interface (`matplotlib.pyplot.figure`) are retained until explicitly closed and may consume too much memory. (To control this warning, see the rcParam `figure.max_open_warning`).\n",
      "  max_open_warning, RuntimeWarning)\n"
     ]
    },
    {
     "name": "stdout",
     "output_type": "stream",
     "text": [
      "nympha-ell_dx1-dy1_20180518_30-20_3d.png\n",
      "nympha-ell_dx1-dy1_20180518_30-30_3d.png\n",
      "nympha-ell_dx1-dy1_20180518_30-40_3d.png\n",
      "nympha-ell_dx1-dy1_20180518_30-50_3d.png\n",
      "nympha-ell_dx1-dy1_20180518_40-00_3d.png\n",
      "nympha-ell_dx1-dy1_20180518_40-10_3d.png\n",
      "nympha-ell_dx1-dy1_20180518_40-20_3d.png\n",
      "nympha-ell_dx1-dy1_20180518_40-30_3d.png\n",
      "nympha-ell_dx1-dy1_20180518_40-40_3d.png\n",
      "nympha-ell_dx1-dy1_20180518_40-50_3d.png\n",
      "nympha-ell_dx1-dy1_20180518_50-00_3d.png\n",
      "nympha-ell_dx1-dy1_20180518_50-10_3d.png\n",
      "nympha-ell_dx1-dy1_20180518_50-20_3d.png\n",
      "nympha-ell_dx1-dy1_20180518_50-30_3d.png\n",
      "nympha-ell_dx1-dy1_20180518_50-40_3d.png\n",
      "nympha-ell_dx1-dy1_20180518_50-50_3d.png\n",
      "completed\n"
     ]
    }
   ],
   "source": [
    "import pandas as pd\n",
    "import numpy as np\n",
    "import matplotlib.pyplot as plt\n",
    "from mpl_toolkits.mplot3d import Axes3D\n",
    "import os\n",
    "import glob\n",
    "import matplotlib.cm as cm\n",
    "\n",
    "lim = 55\n",
    "reso = 90\n",
    "db = 10\n",
    "\n",
    "#directory of output files of \"nympha-ell_csv_sx1-sy1.py\"'\n",
    "csv_dir = 'here'\n",
    "csv_files = csv_dir + '/*.csv'\n",
    "\n",
    "#directory of output folder of this note\n",
    "png_dir = 'there'\n",
    "\n",
    "for name in glob.glob(csv_files):\n",
    "    df = pd.read_csv(name, header = None)\n",
    "    data = np.array(df)\n",
    "    head, tail = os.path.split(name)\n",
    "    filename, ext = os.path.splitext(tail)\n",
    "    imagename = filename + '_3d' + \".png\"\n",
    "    \n",
    "    os.chdir(png_dir)\n",
    "    #making fig\n",
    "    fig = plt.figure(figsize = (6.4, 4.8))\n",
    "    ax = fig.gca(projection='3d')\n",
    "    \n",
    "    #NaN check\n",
    "    if data[0,0] != data[0,0]:\n",
    "        continue\n",
    "    \n",
    "    for i in range(0, 102, 1):\n",
    "        start = i*reso*reso\n",
    "        end = (i+1)*reso*reso\n",
    "        subdata = data[start:end, :].reshape((90,90,3))\n",
    "        ax.plot_surface(subdata[:,:,0], subdata[:,:,1], subdata[:,:,2], antialiased=True, color = \"crimson\")\n",
    "    \n",
    "        #adjusting image aspect\n",
    "    ax.set_aspect((lim + db) / (2*lim))\n",
    "    ax.set_xlim3d(-lim, lim)\n",
    "    ax.set_ylim3d(-lim, lim)\n",
    "    ax.set_zlim3d(-db, lim)\n",
    "        \n",
    "    plt.axis('off')\n",
    "    plt.box('off')\n",
    "        \n",
    "    plt.savefig(imagename)\n",
    "    print(imagename)\n",
    "    os.chdir(csv_dir)\n",
    "\n",
    "print(\"completed\")"
   ]
  }
 ],
 "metadata": {
  "kernelspec": {
   "display_name": "Python 3",
   "language": "python",
   "name": "python3"
  },
  "language_info": {
   "codemirror_mode": {
    "name": "ipython",
    "version": 3
   },
   "file_extension": ".py",
   "mimetype": "text/x-python",
   "name": "python",
   "nbconvert_exporter": "python",
   "pygments_lexer": "ipython3",
   "version": "3.7.3"
  }
 },
 "nbformat": 4,
 "nbformat_minor": 2
}
